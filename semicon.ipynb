{
  "nbformat": 4,
  "nbformat_minor": 0,
  "metadata": {
    "colab": {
      "name": "semicon_0201_final.ipynb",
      "provenance": [],
      "collapsed_sections": [
        "WYrYObsAI314",
        "1QiHKO0OaTj-",
        "_hZiI2h9KbCc",
        "ywnxaRL83cem",
        "snL71azP3rmp",
        "FoLv9Tb431sN",
        "Zp-IJV7Q4Qsr",
        "gxbT-trz4aEo",
        "Tt2fJjr04mLU",
        "HffAjjJr4z-B",
        "lMVTc1bV4_N6",
        "PtxWEesp6UNe",
        "LVBA9PRz6f7F",
        "rslKF_Sc6qRq",
        "WVzOnUavC6Mu",
        "D-2tThYdWu1F",
        "FMwnDo_ZsOnO"
      ],
      "machine_shape": "hm"
    },
    "kernelspec": {
      "name": "python3",
      "display_name": "Python 3"
    },
    "accelerator": "GPU"
  },
  "cells": [
    {
      "cell_type": "markdown",
      "metadata": {
        "id": "EAbC4QgfV39E",
        "colab_type": "text"
      },
      "source": [
        "# <b>월간 데이콘 1 반도체 박막 두께 분석\n",
        "\n",
        "##### 작성자 : 허은정\n",
        "##### 마지막 수정 : 20.02.01 00:00 "
      ]
    },
    {
      "cell_type": "code",
      "metadata": {
        "id": "j0wkpRn1VvKx",
        "colab_type": "code",
        "colab": {}
      },
      "source": [
        "#비활성화방지, F12, 개발자도구. 콘솔창에 입력\n",
        "\n",
        "function ClickConnect(){\n",
        "console.log(\"Working\"); \n",
        "document.querySelector(\"colab-toolbar-button#connect\").click() \n",
        "}\n",
        "setInterval(ClickConnect,60000)"
      ],
      "execution_count": 0,
      "outputs": []
    },
    {
      "cell_type": "markdown",
      "metadata": {
        "id": "0FsDQ510WJSI",
        "colab_type": "text"
      },
      "source": [
        "### <b>라이브러리 및 데이터"
      ]
    },
    {
      "cell_type": "markdown",
      "metadata": {
        "id": "nia5dFGdWz4u",
        "colab_type": "text"
      },
      "source": [
        "#### 구글 드라이브에 마운트"
      ]
    },
    {
      "cell_type": "code",
      "metadata": {
        "id": "wm-UmYp3VvYV",
        "colab_type": "code",
        "colab": {}
      },
      "source": [
        "from google.colab import drive\n",
        "drive.mount('/content/gdrive')"
      ],
      "execution_count": 0,
      "outputs": []
    },
    {
      "cell_type": "markdown",
      "metadata": {
        "id": "KWf5U56vbMDQ",
        "colab_type": "text"
      },
      "source": [
        "#### 라이브러리 설치"
      ]
    },
    {
      "cell_type": "code",
      "metadata": {
        "id": "yYD8MlPnVvbc",
        "colab_type": "code",
        "colab": {}
      },
      "source": [
        "import os                                           # 디렉토리 설정\n",
        "os.chdir(\"/content/gdrive/My Drive/semicon\")\n",
        "import warnings                                      # 경고 메세지 무시\n",
        "warnings.filterwarnings('ignore')\n",
        "import pandas as pd                                  # 데이터 조작, 분석\n",
        "import numpy as np                                   # 행렬 연산\n",
        "import random                                        # 난수 생성\n",
        "\n",
        "from keras.models import Sequential\n",
        "from keras.layers import Dense\n",
        "from keras.layers import LeakyReLU\n",
        "from keras.layers import ELU\n",
        "from keras.layers import LSTM\n",
        "from keras.callbacks import EarlyStopping\n",
        "from sklearn.metrics import mean_absolute_error      # MAE 측정\n",
        "\n",
        "import matplotlib.pyplot as plt                      # 시각화\n",
        "import seaborn as sns                                # 시각화"
      ],
      "execution_count": 0,
      "outputs": []
    },
    {
      "cell_type": "markdown",
      "metadata": {
        "id": "-7WoiqgTg8oJ",
        "colab_type": "text"
      },
      "source": [
        "#### 데이터 불러오기"
      ]
    },
    {
      "cell_type": "code",
      "metadata": {
        "id": "yh2lwctOVvex",
        "colab_type": "code",
        "colab": {}
      },
      "source": [
        "train_raw = pd.read_csv(\"train.csv\")\n",
        "test_raw = pd.read_csv(\"test.csv\")"
      ],
      "execution_count": 0,
      "outputs": []
    },
    {
      "cell_type": "markdown",
      "metadata": {
        "id": "DWvRFhcJstoX",
        "colab_type": "text"
      },
      "source": [
        "### <b>데이터 전처리"
      ]
    },
    {
      "cell_type": "code",
      "metadata": {
        "id": "xKSZXB9TtFGt",
        "colab_type": "code",
        "colab": {}
      },
      "source": [
        "# 결측치 없음"
      ],
      "execution_count": 0,
      "outputs": []
    },
    {
      "cell_type": "markdown",
      "metadata": {
        "id": "JFMBv45JJuyP",
        "colab_type": "text"
      },
      "source": [
        "#### train 데이터를 train, valid 데이터로 분리"
      ]
    },
    {
      "cell_type": "code",
      "metadata": {
        "id": "mdv21x7zJtQg",
        "colab_type": "code",
        "colab": {}
      },
      "source": [
        "valid = train_raw.sample(frac=1, random_state=2020).iloc[:10000,:].reset_index(drop=True)\n",
        "train = train_raw.sample(frac=1, random_state=2020).iloc[10000:,:].reset_index(drop=True)\n",
        "\n",
        "test = test_raw"
      ],
      "execution_count": 0,
      "outputs": []
    },
    {
      "cell_type": "markdown",
      "metadata": {
        "id": "gtdEZl_HJ0GN",
        "colab_type": "text"
      },
      "source": [
        "#### train, valid, test 데이터를 독립변수 x, 종속변수 y로 분리"
      ]
    },
    {
      "cell_type": "code",
      "metadata": {
        "id": "BMuDImBbJtNG",
        "colab_type": "code",
        "colab": {}
      },
      "source": [
        "train_x = train.iloc[:,4:]\n",
        "train_x.columns = [x for x in range(226)]\n",
        "train_y = train.iloc[:,:4]\n",
        "\n",
        "valid_x = valid.iloc[:,4:]\n",
        "valid_x.columns = [x for x in range(226)]\n",
        "valid_y = valid.iloc[:,:4]\n",
        "\n",
        "test_x = test.iloc[:,1:]\n",
        "test_x.columns = [x for x in range(226)]"
      ],
      "execution_count": 0,
      "outputs": []
    },
    {
      "cell_type": "markdown",
      "metadata": {
        "id": "WYrYObsAI314",
        "colab_type": "text"
      },
      "source": [
        "### <b>탐색적 자료분석 (변수 간 차이 계산)"
      ]
    },
    {
      "cell_type": "markdown",
      "metadata": {
        "id": "1QiHKO0OaTj-",
        "colab_type": "text"
      },
      "source": [
        "#### 그래프 파악"
      ]
    },
    {
      "cell_type": "code",
      "metadata": {
        "id": "aL76L0hRa7mz",
        "colab_type": "code",
        "colab": {}
      },
      "source": [
        "train = train_raw\n",
        "train.groupby(['layer_1']).mean()"
      ],
      "execution_count": 0,
      "outputs": []
    },
    {
      "cell_type": "code",
      "metadata": {
        "id": "p75R6-xwd37P",
        "colab_type": "code",
        "colab": {}
      },
      "source": [
        "plt.figure(figsize=(20, 10))\n",
        "plt.grid()\n",
        "n = 6\n",
        "for i in range(n):\n",
        "  plt.plot(train.keys()[4:], train.groupby(['layer_1']).mean().iloc[i*5,3:], color=(i/n, 0, 0))\n",
        "  plt.xticks([x*5 for x in range(46)])"
      ],
      "execution_count": 0,
      "outputs": []
    },
    {
      "cell_type": "markdown",
      "metadata": {
        "id": "TDRy7yQIYQ7q",
        "colab_type": "text"
      },
      "source": [
        "#### 1차미분"
      ]
    },
    {
      "cell_type": "code",
      "metadata": {
        "id": "bogIvDPlJGyI",
        "colab_type": "code",
        "colab": {}
      },
      "source": [
        "train_x0 = train_x.iloc[:,1:]\n",
        "train_x0.columns = [x for x in range(225)]\n",
        "train_x1 = train_x0 - train_x.iloc[:,:225]\n",
        "\n",
        "valid_x0 = valid_x.iloc[:,1:]\n",
        "valid_x0.columns = [x for x in range(225)]\n",
        "valid_x1 = valid_x0 - valid_x.iloc[:,:225]\n",
        "\n",
        "test_x0 = test_x.iloc[:,1:]\n",
        "test_x0.columns = [x for x in range(225)]\n",
        "test_x1 = test_x0 - test_x.iloc[:,:225]"
      ],
      "execution_count": 0,
      "outputs": []
    },
    {
      "cell_type": "markdown",
      "metadata": {
        "id": "oDmWRUQkYWiP",
        "colab_type": "text"
      },
      "source": [
        "#### 2차미분"
      ]
    },
    {
      "cell_type": "code",
      "metadata": {
        "id": "NkTr9_OBd33K",
        "colab_type": "code",
        "colab": {}
      },
      "source": [
        "train_x10 = train_x1.iloc[:,1:]\n",
        "train_x10.columns = [x for x in range(224)]\n",
        "train_x2 = train_x10 - train_x1.iloc[:,:224]\n",
        "\n",
        "valid_x10 = valid_x1.iloc[:,1:]\n",
        "valid_x10.columns = [x for x in range(224)]\n",
        "valid_x2 = valid_x10 - valid_x1.iloc[:,:224]\n",
        "\n",
        "test_x10 = test_x1.iloc[:,1:]\n",
        "test_x10.columns = [x for x in range(224)]\n",
        "test_x2 = test_x10 - test_x1.iloc[:,:224]"
      ],
      "execution_count": 0,
      "outputs": []
    },
    {
      "cell_type": "markdown",
      "metadata": {
        "id": "KO8BhhyXZFY8",
        "colab_type": "text"
      },
      "source": [
        "#### 미분값 변수 추가"
      ]
    },
    {
      "cell_type": "code",
      "metadata": {
        "id": "HMeeFR2EY853",
        "colab_type": "code",
        "colab": {}
      },
      "source": [
        "train_X = pd.concat([train_x2, train_x1, train_x], axis=1)\n",
        "valid_X = pd.concat([valid_x2, valid_x1, valid_x], axis=1)\n",
        "test_X = pd.concat([test_x2, test_x1, test_x], axis=1)"
      ],
      "execution_count": 0,
      "outputs": []
    },
    {
      "cell_type": "markdown",
      "metadata": {
        "id": "Ryxlrihysw_Y",
        "colab_type": "text"
      },
      "source": [
        "### <b>모델 구축"
      ]
    },
    {
      "cell_type": "code",
      "metadata": {
        "id": "Q00kG78ZNt7I",
        "colab_type": "code",
        "colab": {}
      },
      "source": [
        "iteration = 1\n",
        "\n",
        "train_pred = np.zeros([len(train),4])\n",
        "valid_pred = np.zeros([len(valid),4])\n",
        "test_pred = np.zeros([len(test),4])\n",
        "\n",
        "atv = ELU(alpha=1.0)\n",
        "model = Sequential()\n",
        "model.add(Dense(units=226, activation=atv, input_dim=226))\n",
        "model.add(Dense(units=768, activation=atv))\n",
        "model.add(Dense(units=768, activation=atv))\n",
        "model.add(Dense(units=768, activation=atv))\n",
        "model.add(Dense(units=768, activation=atv))\n",
        "model.add(Dense(units=768, activation=atv))\n",
        "model.add(Dense(units=768, activation=atv))\n",
        "model.add(Dense(units=4, activation='linear'))\n",
        "model.compile(loss='mae', optimizer='adam', metrics=['mae'])\n",
        "\n",
        "for i in range(iteration) :\n",
        "    \n",
        "    model.fit(train_x, train_y, epochs=2000, batch_size=25000, validation_split = 0.05)\n",
        "    \n",
        "    train_pred += model.predict(train_x)\n",
        "    valid_pred += model.predict(valid_x)\n",
        "    test_pred += model.predict(test_x)\n",
        "    \n",
        "    train_pred[train_pred < 10] = 10\n",
        "    valid_pred[valid_pred < 10] = 10\n",
        "    test_pred[test_pred < 10] = 10\n",
        "\n",
        "    train_pred[train_pred > 300] = 300\n",
        "    valid_pred[valid_pred > 300] = 300\n",
        "    test_pred[test_pred > 300] = 300\n",
        "\n",
        "#train_pred = train_pred / iteration\n",
        "#valid_pred = valid_pred / iteration"
      ],
      "execution_count": 0,
      "outputs": []
    },
    {
      "cell_type": "code",
      "metadata": {
        "id": "AgE1PuvCX_zD",
        "colab_type": "code",
        "colab": {}
      },
      "source": [
        ""
      ],
      "execution_count": 0,
      "outputs": []
    },
    {
      "cell_type": "markdown",
      "metadata": {
        "id": "8yKsIWvsrmKB",
        "colab_type": "text"
      },
      "source": [
        "### <b>모델 학습 및 검증"
      ]
    },
    {
      "cell_type": "code",
      "metadata": {
        "id": "PBTgdUl4xxIf",
        "colab_type": "code",
        "colab": {}
      },
      "source": [
        "mean_absolute_error(valid_y, valid_pred)"
      ],
      "execution_count": 0,
      "outputs": []
    },
    {
      "cell_type": "code",
      "metadata": {
        "id": "_POAbAk71_nm",
        "colab_type": "code",
        "colab": {}
      },
      "source": [
        "plt.scatter(valid_y, valid_pred, alpha=0.05)"
      ],
      "execution_count": 0,
      "outputs": []
    },
    {
      "cell_type": "code",
      "metadata": {
        "id": "O0R_GauTJ1NK",
        "colab_type": "code",
        "colab": {}
      },
      "source": [
        "mean_absolute_error(train_y, train_pred)"
      ],
      "execution_count": 0,
      "outputs": []
    },
    {
      "cell_type": "code",
      "metadata": {
        "id": "7hUFdLaW1_rD",
        "colab_type": "code",
        "colab": {}
      },
      "source": [
        "plt.scatter(train_y, train_pred, alpha=0.05)"
      ],
      "execution_count": 0,
      "outputs": []
    },
    {
      "cell_type": "code",
      "metadata": {
        "id": "n1tvb8J76BJ3",
        "colab_type": "code",
        "colab": {}
      },
      "source": [
        ""
      ],
      "execution_count": 0,
      "outputs": []
    },
    {
      "cell_type": "code",
      "metadata": {
        "id": "gRc-lCsB6BCf",
        "colab_type": "code",
        "colab": {}
      },
      "source": [
        ""
      ],
      "execution_count": 0,
      "outputs": []
    },
    {
      "cell_type": "markdown",
      "metadata": {
        "id": "_hZiI2h9KbCc",
        "colab_type": "text"
      },
      "source": [
        "### <b>모델별 결과"
      ]
    },
    {
      "cell_type": "markdown",
      "metadata": {
        "id": "ywnxaRL83cem",
        "colab_type": "text"
      },
      "source": [
        "###### 1. 기본변수, epoch=200, batch_size=10000"
      ]
    },
    {
      "cell_type": "code",
      "metadata": {
        "id": "_mTCE9eNKaHK",
        "colab_type": "code",
        "colab": {}
      },
      "source": [
        "model = Sequential()\n",
        "model.add(Dense(units=226, activation='relu', input_dim=226))\n",
        "model.add(Dense(units=128, activation='relu'))\n",
        "model.add(Dense(units=128, activation='relu'))\n",
        "model.add(Dense(units=128, activation='relu'))\n",
        "model.add(Dense(units=128, activation='relu'))\n",
        "model.add(Dense(units=128, activation='relu'))\n",
        "model.add(Dense(units=128, activation='relu'))\n",
        "model.add(Dense(units=4, activation='linear'))\n",
        "\n",
        "model.compile(loss='mae', optimizer='adam', metrics=['mae'])\n",
        "model.fit(train_x, train_y, epochs=200, batch_size=10000, validation_split = 0.05)\n",
        "valid_pred = model.predict(valid_x)\n",
        "\n",
        "# train 15.961750167919915\n",
        "# valid 16.385424884825238"
      ],
      "execution_count": 0,
      "outputs": []
    },
    {
      "cell_type": "markdown",
      "metadata": {
        "id": "snL71azP3rmp",
        "colab_type": "text"
      },
      "source": [
        "###### 2. 기본변수, epoch=1000, batch_size=10000"
      ]
    },
    {
      "cell_type": "code",
      "metadata": {
        "id": "KsjNz9MuKf1r",
        "colab_type": "code",
        "colab": {}
      },
      "source": [
        "model = Sequential()\n",
        "model.add(Dense(units=226, activation='relu', input_dim=226))\n",
        "model.add(Dense(units=128, activation='relu'))\n",
        "model.add(Dense(units=128, activation='relu'))\n",
        "model.add(Dense(units=128, activation='relu'))\n",
        "model.add(Dense(units=128, activation='relu'))\n",
        "model.add(Dense(units=128, activation='relu'))\n",
        "model.add(Dense(units=128, activation='relu'))\n",
        "model.add(Dense(units=4, activation='linear'))\n",
        "\n",
        "model.compile(loss='mae', optimizer='adam', metrics=['mae'])\n",
        "model.fit(train_x, train_y, epochs=1000, batch_size=10000, validation_split = 0.05)\n",
        "valid_pred = model.predict(valid_x)\n",
        "\n",
        "# train 8.126535143337069\n",
        "# valid 8.946578103011547"
      ],
      "execution_count": 0,
      "outputs": []
    },
    {
      "cell_type": "markdown",
      "metadata": {
        "id": "FoLv9Tb431sN",
        "colab_type": "text"
      },
      "source": [
        "###### 3. 기본변수, lightGBM, ensemble=4"
      ]
    },
    {
      "cell_type": "code",
      "metadata": {
        "id": "_GUmVyWoKf7X",
        "colab_type": "code",
        "colab": {}
      },
      "source": [
        "iteration = 4\n",
        "sample_size = 1\n",
        "\n",
        "train_pred = np.zeros([len(train),4])\n",
        "valid_pred = np.zeros([len(valid),4])\n",
        "test_pred = np.zeros([len(test),4])\n",
        "\n",
        "for i in range(iteration) :\n",
        "    params = {'learning_rate': 0.25, \n",
        "              'max_bin': 511,\n",
        "              'boosting': 'gbdt', \n",
        "              'objective': 'regression', \n",
        "              'metric': 'mae', \n",
        "              'is_training_metric': True,\n",
        "              'sparse_threshold': 1.0,\n",
        "              'seed':2020,\n",
        "              'divice': 'gpu' \n",
        "              }\n",
        "\n",
        "    sample_index = random.sample(range(len(train)), 1000)\n",
        "    train_ds = lgb.Dataset(train_x, label = train_y.iloc[:,i])\n",
        "    valid_ds = lgb.Dataset(train_x.iloc[sample_index,:], train_y.iloc[sample_index,i])\n",
        "    model = lgb.train(params, train_ds, 5000, valid_ds, verbose_eval=100, early_stopping_rounds=1000)  \n",
        "    \n",
        "    train_pred[:,i] += model.predict(train_x)\n",
        "    valid_pred[:,i] += model.predict(valid_x)\n",
        "    test_pred[:,i] += model.predict(test_x)\n",
        "    \n",
        "    train_pred[train_pred[:,i] < 0, i] = 0\n",
        "    valid_pred[valid_pred[:,i] < 0, i] = 0\n",
        "    test_pred[test_pred[:,i] < 0, i] = 0\n",
        "\n",
        "# train 12.758567823740458\n",
        "# valid 24.27478328767353"
      ],
      "execution_count": 0,
      "outputs": []
    },
    {
      "cell_type": "markdown",
      "metadata": {
        "id": "Zp-IJV7Q4Qsr",
        "colab_type": "text"
      },
      "source": [
        "###### 4. 기본변수, epoch=1500, batch_size=10000"
      ]
    },
    {
      "cell_type": "code",
      "metadata": {
        "id": "ZlJnzg5yKf_G",
        "colab_type": "code",
        "colab": {}
      },
      "source": [
        "model = Sequential()\n",
        "model.add(Dense(units=226, activation='relu', input_dim=226))\n",
        "model.add(Dense(units=128, activation='relu'))\n",
        "model.add(Dense(units=128, activation='relu'))\n",
        "model.add(Dense(units=128, activation='relu'))\n",
        "model.add(Dense(units=128, activation='relu'))\n",
        "model.add(Dense(units=128, activation='relu'))\n",
        "model.add(Dense(units=128, activation='relu'))\n",
        "model.add(Dense(units=4, activation='linear'))\n",
        "\n",
        "model.compile(loss='mae', optimizer='adam', metrics=['mae'])\n",
        "\n",
        "model.fit(train_x, train_y, epochs=1500, batch_size=10000, validation_split = 0.05)\n",
        "    \n",
        "train_pred += model.predict(train_x)\n",
        "valid_pred += model.predict(valid_x)\n",
        "test_pred += model.predict(test_x)\n",
        "    \n",
        "train_pred[train_pred < 0] = 0\n",
        "valid_pred[valid_pred < 0] = 0\n",
        "test_pred[test_pred < 0] = 0\n",
        "\n",
        "# train 5.254762536292218\n",
        "# valid 5.694623216835558"
      ],
      "execution_count": 0,
      "outputs": []
    },
    {
      "cell_type": "markdown",
      "metadata": {
        "id": "gxbT-trz4aEo",
        "colab_type": "text"
      },
      "source": [
        "###### 5. 기본변수, knn"
      ]
    },
    {
      "cell_type": "code",
      "metadata": {
        "id": "0M9VzDvZKgB5",
        "colab_type": "code",
        "colab": {}
      },
      "source": [
        "# knn으로 train_y 데이터의 layer 변수 추가\n",
        "\n",
        "# train 2.932624136510533\n",
        "# valid 11.573848717975617"
      ],
      "execution_count": 0,
      "outputs": []
    },
    {
      "cell_type": "markdown",
      "metadata": {
        "id": "Tt2fJjr04mLU",
        "colab_type": "text"
      },
      "source": [
        "###### 6. 1차미분+기본변수, epoch=1500, batch_size=10000, layer 좀 늘림"
      ]
    },
    {
      "cell_type": "code",
      "metadata": {
        "id": "HiPYej_uKgFC",
        "colab_type": "code",
        "colab": {}
      },
      "source": [
        "# 1차 미분 변수 추가\n",
        "\n",
        "model = Sequential()\n",
        "model.add(Dense(units=452, activation='relu', input_dim=452))\n",
        "model.add(Dense(units=256, activation='relu'))\n",
        "model.add(Dense(units=256, activation='relu'))\n",
        "model.add(Dense(units=256, activation='relu'))\n",
        "model.add(Dense(units=256, activation='relu'))\n",
        "model.add(Dense(units=256, activation='relu'))\n",
        "model.add(Dense(units=256, activation='relu'))\n",
        "model.add(Dense(units=128, activation='relu'))\n",
        "model.add(Dense(units=64, activation='relu'))\n",
        "model.add(Dense(units=32, activation='relu'))\n",
        "model.add(Dense(units=4, activation='linear'))\n",
        "\n",
        "model.compile(loss='mae', optimizer='adam', metrics=['mae'])\n",
        "model.fit(train_x, train_y, epochs=1500, batch_size=10000, validation_split = 0.05)\n",
        "valid_pred = model.predict(valid_x)\n",
        "\n",
        "# train 1.7777946670879572\n",
        "# valid 2.1964727961288393"
      ],
      "execution_count": 0,
      "outputs": []
    },
    {
      "cell_type": "markdown",
      "metadata": {
        "id": "HffAjjJr4z-B",
        "colab_type": "text"
      },
      "source": [
        "###### 7. 1차미분, epoch=200, batch_size=10000"
      ]
    },
    {
      "cell_type": "code",
      "metadata": {
        "id": "Qfj6OM-0Kf5o",
        "colab_type": "code",
        "colab": {}
      },
      "source": [
        "# 1차 미분 변수로만 epoch 200\n",
        "\n",
        "model = Sequential()\n",
        "model.add(Dense(units=226, activation='relu', input_dim=226))\n",
        "model.add(Dense(units=256, activation='relu'))\n",
        "model.add(Dense(units=256, activation='relu'))\n",
        "model.add(Dense(units=256, activation='relu'))\n",
        "model.add(Dense(units=256, activation='relu'))\n",
        "model.add(Dense(units=256, activation='relu'))\n",
        "model.add(Dense(units=256, activation='relu'))\n",
        "model.add(Dense(units=128, activation='relu'))\n",
        "model.add(Dense(units=64, activation='relu'))\n",
        "model.add(Dense(units=32, activation='relu'))\n",
        "model.add(Dense(units=4, activation='linear'))\n",
        "\n",
        "model.compile(loss='mae', optimizer='adam', metrics=['mae'])\n",
        "model.fit(train_x2, train_y, epochs=200, batch_size=10000, validation_split = 0.05)\n",
        "valid_pred = model.predict(valid_x2)\n",
        "\n",
        "# trian 12.853896638178593\n",
        "# valid 14.482646765730864"
      ],
      "execution_count": 0,
      "outputs": []
    },
    {
      "cell_type": "markdown",
      "metadata": {
        "id": "lMVTc1bV4_N6",
        "colab_type": "text"
      },
      "source": [
        "###### 8. 1차미분, epoch=200, batch_size=5000, 1000, 500"
      ]
    },
    {
      "cell_type": "code",
      "metadata": {
        "id": "xPWzrF_-3-HL",
        "colab_type": "code",
        "colab": {}
      },
      "source": [
        "# 1차 미분 변수로만 epoch 200\n",
        "# batch_size = 5000, 1000, 500으로, 시간오래걸림\n",
        "\n",
        "model = Sequential()\n",
        "model.add(Dense(units=226, activation='relu', input_dim=226))\n",
        "model.add(Dense(units=256, activation='relu'))\n",
        "model.add(Dense(units=256, activation='relu'))\n",
        "model.add(Dense(units=256, activation='relu'))\n",
        "model.add(Dense(units=256, activation='relu'))\n",
        "model.add(Dense(units=256, activation='relu'))\n",
        "model.add(Dense(units=256, activation='relu'))\n",
        "model.add(Dense(units=128, activation='relu'))\n",
        "model.add(Dense(units=64, activation='relu'))\n",
        "model.add(Dense(units=32, activation='relu'))\n",
        "model.add(Dense(units=4, activation='linear'))\n",
        "\n",
        "model.compile(loss='mae', optimizer='adam', metrics=['mae'])\n",
        "model.fit(train_x2, train_y, epochs=200, batch_size=1000, validation_split = 0.05)\n",
        "valid_pred = model.predict(valid_x2)\n",
        "\n",
        "# batch_size=5000 3~4초\n",
        "\n",
        "# train 6.594973571259298\n",
        "# valid 7.687990546501744\n",
        "\n",
        "# batch_size=1000 6초\n",
        "\n",
        "# train 2.6649903466623432\n",
        "# valid 3.104061243339777\n",
        "\n",
        "# batch_size=500 9초\n",
        "\n",
        "# train 2.4533957332863774\n",
        "# valid 2.8087869629114866"
      ],
      "execution_count": 0,
      "outputs": []
    },
    {
      "cell_type": "markdown",
      "metadata": {
        "id": "PtxWEesp6UNe",
        "colab_type": "text"
      },
      "source": [
        "###### 9. 2차미분+1차미분+기본변수, epoch=1500, batch_size=10000"
      ]
    },
    {
      "cell_type": "code",
      "metadata": {
        "id": "oTC9AjCH3-KI",
        "colab_type": "code",
        "colab": {}
      },
      "source": [
        "# 1차, 2차 미분 변수 추가\n",
        "\n",
        "model = Sequential()\n",
        "model.add(Dense(units=675, activation='relu', input_dim=675))\n",
        "model.add(Dense(units=518, activation='relu'))\n",
        "model.add(Dense(units=518, activation='relu'))\n",
        "model.add(Dense(units=518, activation='relu'))\n",
        "model.add(Dense(units=518, activation='relu'))\n",
        "model.add(Dense(units=518, activation='relu'))\n",
        "model.add(Dense(units=518, activation='relu'))\n",
        "model.add(Dense(units=256, activation='relu'))\n",
        "model.add(Dense(units=128, activation='relu'))\n",
        "model.add(Dense(units=64, activation='relu'))\n",
        "model.add(Dense(units=32, activation='relu'))\n",
        "model.add(Dense(units=4, activation='linear'))\n",
        "\n",
        "# train 1.186030168549741\n",
        "# valid 1.6393125162190199"
      ],
      "execution_count": 0,
      "outputs": []
    },
    {
      "cell_type": "markdown",
      "metadata": {
        "id": "LVBA9PRz6f7F",
        "colab_type": "text"
      },
      "source": [
        "###### 10. 3차미분+2차미분+1차미분+기본변수, epoch=1500, batch_size=10000"
      ]
    },
    {
      "cell_type": "code",
      "metadata": {
        "id": "-gjjadOT3-QA",
        "colab_type": "code",
        "colab": {}
      },
      "source": [
        "# 1,2,3차 미분 변수 추가\n",
        "# 과적합발생, 2차까지만 변수 추가\n",
        "\n",
        "model = Sequential()\n",
        "model.add(Dense(units=898, activation='relu', input_dim=898))\n",
        "model.add(Dense(units=518, activation='relu'))\n",
        "model.add(Dense(units=518, activation='relu'))\n",
        "model.add(Dense(units=518, activation='relu'))\n",
        "model.add(Dense(units=518, activation='relu'))\n",
        "model.add(Dense(units=518, activation='relu'))\n",
        "model.add(Dense(units=518, activation='relu'))\n",
        "model.add(Dense(units=256, activation='relu'))\n",
        "model.add(Dense(units=128, activation='relu'))\n",
        "model.add(Dense(units=64, activation='relu'))\n",
        "model.add(Dense(units=32, activation='relu'))\n",
        "model.add(Dense(units=4, activation='linear'))\n",
        "\n",
        "# train 2.8556745621275708\n",
        "# valid 4.078369204955921"
      ],
      "execution_count": 0,
      "outputs": []
    },
    {
      "cell_type": "markdown",
      "metadata": {
        "id": "rslKF_Sc6qRq",
        "colab_type": "text"
      },
      "source": [
        "###### 11. 2차미분+1차미분+기본변수, 109500개 샘플링, epoch=500, batch_size=50000, layer 조정 실험"
      ]
    },
    {
      "cell_type": "code",
      "metadata": {
        "id": "oIovcLGo3-EH",
        "colab_type": "code",
        "colab": {}
      },
      "source": [
        "# 빠른 실험 위해 train 데이터 109500개, epoch=500, batch_size=50000\n",
        "# epoch=100 200 300 400 500일 때 train 데이터의 mae\n",
        "\n",
        "model = Sequential()\n",
        "model.add(Dense(units=675, activation='relu', input_dim=675))\n",
        "model.add(Dense(units=518, activation='relu'))\n",
        "model.add(Dense(units=518, activation='relu'))\n",
        "model.add(Dense(units=518, activation='relu'))\n",
        "model.add(Dense(units=4, activation='linear'))\n",
        "\n",
        "# 기본        58.9 50.8 40.4 33.5 29.9\n",
        "\n",
        "model = Sequential()\n",
        "model.add(Dense(units=675, activation='relu', input_dim=675))\n",
        "model.add(Dense(units=768, activation='relu'))\n",
        "model.add(Dense(units=768, activation='relu'))\n",
        "model.add(Dense(units=768, activation='relu'))\n",
        "model.add(Dense(units=4, activation='linear'))\n",
        "\n",
        "# unit수 증가  58.3 49.3 35.4 29.7 24.8 속도차이없음\n",
        "\n",
        "model = Sequential()\n",
        "model.add(Dense(units=675, activation='relu', input_dim=675))\n",
        "model.add(Dense(units=768, activation='relu'))\n",
        "model.add(Dense(units=768, activation='relu'))\n",
        "model.add(Dense(units=768, activation='relu'))\n",
        "model.add(Dense(units=768, activation='relu'))\n",
        "model.add(Dense(units=768, activation='relu'))\n",
        "model.add(Dense(units=768, activation='relu'))\n",
        "model.add(Dense(units=768, activation='relu'))\n",
        "model.add(Dense(units=768, activation='relu'))\n",
        "model.add(Dense(units=768, activation='relu'))\n",
        "model.add(Dense(units=4, activation='linear'))\n",
        "\n",
        "# layer수 증가 61.8 61.5 60.6 49.5 32.4 속도차이없음\n",
        "\n",
        "model = Sequential()\n",
        "model.add(Dense(units=675, activation='relu', input_dim=675))\n",
        "model.add(Dense(units=1250, activation='relu'))\n",
        "model.add(Dense(units=1250, activation='relu'))\n",
        "model.add(Dense(units=1250, activation='relu'))\n",
        "model.add(Dense(units=1250, activation='relu'))\n",
        "model.add(Dense(units=1250, activation='relu'))\n",
        "model.add(Dense(units=1250, activation='relu'))\n",
        "model.add(Dense(units=4, activation='linear'))\n",
        "\n",
        "# unit수 증가 61.4 51.2 35.9 19.3 12.5 속도조금느림 과적합심함\n",
        "# 그런데 샘플사이즈 작아서 과적합있어도 될지도"
      ],
      "execution_count": 0,
      "outputs": []
    },
    {
      "cell_type": "markdown",
      "metadata": {
        "id": "WVzOnUavC6Mu",
        "colab_type": "text"
      },
      "source": [
        "###### 12. 2차미분+1차미분+기본변수, 109500개 샘플링, epoch=500, batch_size=50000, activation 조정 실험"
      ]
    },
    {
      "cell_type": "code",
      "metadata": {
        "id": "vgOSF3W2ug10",
        "colab_type": "code",
        "colab": {}
      },
      "source": [
        "# 빠른 실험 위해 train 데이터 109500개, epoch=500, batch_size=50000\n",
        "# epoch=100 200 300 400 500일 때 train 데이터의 mae\n",
        "\n",
        "atv = LeakyReLU(alpha=0.3)\n",
        "model = Sequential()\n",
        "model.add(Dense(units=675, activation=atv, input_dim=675))\n",
        "model.add(Dense(units=768, activation=atv))\n",
        "model.add(Dense(units=768, activation=atv))\n",
        "model.add(Dense(units=768, activation=atv))\n",
        "model.add(Dense(units=768, activation=atv))\n",
        "model.add(Dense(units=768, activation=atv))\n",
        "model.add(Dense(units=768, activation=atv))\n",
        "model.add(Dense(units=4, activation='linear'))\n",
        "model.compile(loss='mae', optimizer='adam', metrics=['mae'])\n",
        "\n",
        "# LeakyReLU(alpha=0.3) 59.4 48.9 28.4 20.0 15.8 속도차이없음 과적합약간있음\n",
        "\n",
        "atv = LeakyReLU(alpha=0.7)\n",
        "model = Sequential()\n",
        "model.add(Dense(units=675, activation=atv, input_dim=675))\n",
        "model.add(Dense(units=768, activation=atv))\n",
        "model.add(Dense(units=768, activation=atv))\n",
        "model.add(Dense(units=768, activation=atv))\n",
        "model.add(Dense(units=768, activation=atv))\n",
        "model.add(Dense(units=768, activation=atv))\n",
        "model.add(Dense(units=768, activation=atv))\n",
        "model.add(Dense(units=4, activation='linear'))\n",
        "model.compile(loss='mae', optimizer='adam', metrics=['mae'])\n",
        "\n",
        "# LeakyReLU(alpha=0.7) 61.2 54.5 49.7 45.4 40.5\n",
        "\n",
        "atv = ELU(alpha=1.0)\n",
        "model = Sequential()\n",
        "model.add(Dense(units=675, activation=atv, input_dim=675))\n",
        "model.add(Dense(units=768, activation=atv))\n",
        "model.add(Dense(units=768, activation=atv))\n",
        "model.add(Dense(units=768, activation=atv))\n",
        "model.add(Dense(units=768, activation=atv))\n",
        "model.add(Dense(units=768, activation=atv))\n",
        "model.add(Dense(units=768, activation=atv))\n",
        "model.add(Dense(units=4, activation='linear'))\n",
        "model.compile(loss='mae', optimizer='adam', metrics=['mae'])\n",
        "\n",
        "# ELU(alpha=1.0) 60.0 32.8 13.1 7.5 5.5 과적합있지만거의없음 성능좋음"
      ],
      "execution_count": 0,
      "outputs": []
    },
    {
      "cell_type": "markdown",
      "metadata": {
        "id": "D-2tThYdWu1F",
        "colab_type": "text"
      },
      "source": [
        "###### 13. 2차미분+1차미분+기본변수, epoch=1500, batch_size=25000, activation=ELU"
      ]
    },
    {
      "cell_type": "code",
      "metadata": {
        "id": "ao2fkqVuugxS",
        "colab_type": "code",
        "colab": {}
      },
      "source": [
        "# epoch당 12~13초 -> 5시간\n",
        "\n",
        "atv = ELU(alpha=1.0)\n",
        "model = Sequential()\n",
        "model.add(Dense(units=675, activation=atv, input_dim=675))\n",
        "model.add(Dense(units=768, activation=atv))\n",
        "model.add(Dense(units=768, activation=atv))\n",
        "model.add(Dense(units=768, activation=atv))\n",
        "model.add(Dense(units=768, activation=atv))\n",
        "model.add(Dense(units=768, activation=atv))\n",
        "model.add(Dense(units=768, activation=atv))\n",
        "model.add(Dense(units=4, activation='linear'))\n",
        "model.compile(loss='mae', optimizer='adam', metrics=['mae'])\n",
        "model.fit(train_X, train_y, epochs=1500, batch_size=25000, validation_split = 0.05)\n",
        "\n",
        "# train 0.6384669344828162\n",
        "# valid 1.0066060829472543"
      ],
      "execution_count": 0,
      "outputs": []
    },
    {
      "cell_type": "markdown",
      "metadata": {
        "id": "bUFXRQvpWK0V",
        "colab_type": "text"
      },
      "source": [
        "###### 14. 결론: epoch=1000, batch_size=25000, ectivation=ELU로 모델 여러 개 ensemble, median으로 최종 결과물 만들기"
      ]
    },
    {
      "cell_type": "code",
      "metadata": {
        "id": "RFIu9T10uguj",
        "colab_type": "code",
        "colab": {}
      },
      "source": [
        "# 한 모델에 약 3.3시간"
      ],
      "execution_count": 0,
      "outputs": []
    },
    {
      "cell_type": "markdown",
      "metadata": {
        "id": "iHjb1VhE1nA2",
        "colab_type": "text"
      },
      "source": [
        "###### 15. 결론2: epoch=2000, batch_size=50000, ectivation=ELU로 모델 여러 개 ensemble, median으로 최종 결과물 만들기"
      ]
    },
    {
      "cell_type": "code",
      "metadata": {
        "id": "I11ZFceZugsd",
        "colab_type": "code",
        "colab": {}
      },
      "source": [
        ""
      ],
      "execution_count": 0,
      "outputs": []
    },
    {
      "cell_type": "code",
      "metadata": {
        "id": "RqT9FLeQugqH",
        "colab_type": "code",
        "colab": {}
      },
      "source": [
        ""
      ],
      "execution_count": 0,
      "outputs": []
    },
    {
      "cell_type": "markdown",
      "metadata": {
        "id": "FMwnDo_ZsOnO",
        "colab_type": "text"
      },
      "source": [
        "### <b>테스트 데이터에 모델 적용"
      ]
    },
    {
      "cell_type": "code",
      "metadata": {
        "id": "KNSMegePsN2N",
        "colab_type": "code",
        "colab": {}
      },
      "source": [
        "sample_sub = pd.read_csv('sample_submission.csv', index_col=0)\n",
        "submission = sample_sub + test_pred"
      ],
      "execution_count": 0,
      "outputs": []
    },
    {
      "cell_type": "code",
      "metadata": {
        "id": "p06TcGgaKV4a",
        "colab_type": "code",
        "colab": {}
      },
      "source": [
        "submission"
      ],
      "execution_count": 0,
      "outputs": []
    },
    {
      "cell_type": "code",
      "metadata": {
        "id": "waCPFsOkKV09",
        "colab_type": "code",
        "colab": {}
      },
      "source": [
        "submission.to_csv('05_elu.csv')"
      ],
      "execution_count": 0,
      "outputs": []
    },
    {
      "cell_type": "markdown",
      "metadata": {
        "id": "BQK8YF23YK9e",
        "colab_type": "text"
      },
      "source": [
        "### <b>여러 모델 한 번에 만들기"
      ]
    },
    {
      "cell_type": "code",
      "metadata": {
        "id": "cjuwAwSYVZbS",
        "colab_type": "code",
        "colab": {}
      },
      "source": [
        "# validation 데이터 없이\n",
        "\n",
        "file_name = ['m12.csv']\n",
        "for i in range(1):\n",
        "\n",
        "  # 샘플링\n",
        "  train = train_raw.sample(n=700000, random_state=2020+11+i).reset_index(drop=True)\n",
        "  test = test_raw\n",
        "\n",
        "  # x, y 분리\n",
        "  train_x = train.iloc[:,4:]\n",
        "  train_x.columns = [x for x in range(226)]\n",
        "  train_y = train.iloc[:,:4]\n",
        "\n",
        "  test_x = test.iloc[:,1:]\n",
        "  test_x.columns = [x for x in range(226)]\n",
        "\n",
        "  # 1차미분\n",
        "  train_x0 = train_x.iloc[:,1:]\n",
        "  train_x0.columns = [x for x in range(225)]\n",
        "  train_x1 = train_x0 - train_x.iloc[:,:225]\n",
        "\n",
        "  test_x0 = test_x.iloc[:,1:]\n",
        "  test_x0.columns = [x for x in range(225)]\n",
        "  test_x1 = test_x0 - test_x.iloc[:,:225]\n",
        "\n",
        "  # 2차미분\n",
        "  train_x10 = train_x1.iloc[:,1:]\n",
        "  train_x10.columns = [x for x in range(224)]\n",
        "  train_x2 = train_x10 - train_x1.iloc[:,:224]\n",
        "\n",
        "  test_x10 = test_x1.iloc[:,1:]\n",
        "  test_x10.columns = [x for x in range(224)]\n",
        "  test_x2 = test_x10 - test_x1.iloc[:,:224]\n",
        "\n",
        "  # 미분변수추가\n",
        "  train_X = pd.concat([train_x2, train_x1, train_x], axis=1)\n",
        "  test_X = pd.concat([test_x2, test_x1, test_x], axis=1)\n",
        "\n",
        "  # 모델 학습\n",
        "  train_pred = np.zeros([len(train),4])\n",
        "  test_pred = np.zeros([len(test),4])\n",
        "\n",
        "  atv = ELU(alpha=1.0)\n",
        "  model = Sequential()\n",
        "  model.add(Dense(units=675, activation=atv, input_dim=675))\n",
        "  model.add(Dense(units=768, activation=atv))\n",
        "  model.add(Dense(units=768, activation=atv))\n",
        "  model.add(Dense(units=768, activation=atv))\n",
        "  model.add(Dense(units=768, activation=atv))\n",
        "  model.add(Dense(units=768, activation=atv))\n",
        "  model.add(Dense(units=768, activation=atv))\n",
        "  model.add(Dense(units=4, activation='linear'))\n",
        "  model.compile(loss='mae', optimizer='adam', metrics=['mae'])\n",
        "    \n",
        "  model.fit(train_X, train_y, epochs=2000, batch_size=25000, validation_split = 0.05)\n",
        "\n",
        "  # 모델 적용 \n",
        "  test_pred += model.predict(test_X)\n",
        "\n",
        "  test_pred[test_pred < 10] = 10\n",
        "  test_pred[test_pred > 300] = 300\n",
        "\n",
        "  # 저장\n",
        "  sample_sub = pd.read_csv('sample_submission.csv', index_col=0)\n",
        "  submission = sample_sub + test_pred\n",
        "  submission.to_csv(file_name[i])"
      ],
      "execution_count": 0,
      "outputs": []
    },
    {
      "cell_type": "markdown",
      "metadata": {
        "id": "pVAYhhDTN4El",
        "colab_type": "text"
      },
      "source": [
        "### <b>앙상블"
      ]
    },
    {
      "cell_type": "code",
      "metadata": {
        "id": "QDdp3tQ1VZWv",
        "colab_type": "code",
        "colab": {}
      },
      "source": [
        "file_name = ['m01.csv','m02.csv','m03.csv','m04.csv','m05.csv','m06.csv','m07.csv','m08.csv',\n",
        "             'm09.csv','m10.csv','m11.csv','m12.csv','m13.csv','m14.csv','m15.csv','m16.csv',\n",
        "             'm17.csv','m18.csv','m19.csv','m20.csv','m21.csv','m22.csv','m23.csv','m24.csv',\n",
        "             'm25.csv','m26.csv','m27.csv','m28.csv','m29.csv','m30.csv','m31.csv','m32.csv']\n",
        "\n",
        "m = [0 for x in range(len(file_name))]\n",
        "for i in range(len(m)):\n",
        "    m[i] = pd.read_csv(file_name[i], index_col=0)\n",
        "    \n",
        "l = [0 for x in range(4)]\n",
        "for i in range(4):\n",
        "    l[i] = pd.DataFrame()\n",
        "    for j in range(len(m)):\n",
        "        l[i] = pd.concat([l[i], m[j].iloc[:,i]], axis=1)\n",
        "        \n",
        "for i in range(4):\n",
        "    for j in range(10000):\n",
        "        l[i].iloc[j] = l[i].iloc[j].sort_values()\n",
        "\n",
        "result = pd.DataFrame()\n",
        "for i in range(4):\n",
        "    result = pd.concat([result, l[i].iloc[:,8:24].mean(axis=1)], axis=1)\n",
        "result.columns = ['layer_1', 'layer_2', 'layer_3', 'layer_4']\n",
        "\n",
        "sample_sub = pd.read_csv('sample_submission.csv', index_col=0)\n",
        "submission = sample_sub + result\n",
        "submission.to_csv('ensemble0132_trim_16.csv')"
      ],
      "execution_count": 0,
      "outputs": []
    }
  ]
}